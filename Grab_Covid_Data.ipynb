{
 "cells": [
  {
   "cell_type": "code",
   "execution_count": 6,
   "metadata": {},
   "outputs": [],
   "source": [
    "import io\n",
    "import pandas as pd\n",
    "from bs4 import BeautifulSoup\n",
    "import requests\n",
    "import csv\n",
    "from matplotlib import pyplot as plt"
   ]
  },
  {
   "cell_type": "code",
   "execution_count": 3,
   "metadata": {},
   "outputs": [],
   "source": [
    "def get_corona_data():\n",
    "    url=\"https://www.worldometers.info/coronavirus/\"\n",
    "    # Make a GET request to fetch the raw HTML content\n",
    "    html_content = requests.get(url).text\n",
    "    # Parse the html content\n",
    "    soup = BeautifulSoup(html_content, \"lxml\")\n",
    "    gdp_table = soup.find(\"table\", id = \"main_table_countries_today\")\n",
    "    gdp_table_data = gdp_table.tbody.find_all(\"tr\")\n",
    "\n",
    "    # Getting all countries names\n",
    "    dicts = {}\n",
    "    for i in range(len(gdp_table_data)):\n",
    "        try:\n",
    "            key = (gdp_table_data[i].find_all('a', href=True)[0].string)\n",
    "        except:\n",
    "            key = (gdp_table_data[i].find_all('td')[0].string)\n",
    "\n",
    "        value = [j.string for j in gdp_table_data[i].find_all('td')]\n",
    "        dicts[key] = value\n",
    "    live_data= pd.DataFrame(dicts).drop(0).T.iloc[:,:8]\n",
    "    live_data.columns = [\"Total Cases\",\"New Cases\", \"Total Deaths\", \"New Deaths\", \"Total Recovered\",\"Active\",\"Serious Critical\",\n",
    "\"Tot Cases/1M pop\"]\n",
    "    live_data.index.name = 'Country'\n",
    "    \n",
    "    ### your file is saved here\n",
    "    live_data.iloc[:,:5].to_csv(\"base_data.csv\")"
   ]
  },
  {
   "cell_type": "code",
   "execution_count": 4,
   "metadata": {},
   "outputs": [],
   "source": [
    "get_corona_data()"
   ]
  },
  {
   "cell_type": "code",
   "execution_count": 36,
   "metadata": {},
   "outputs": [
    {
     "data": {
      "text/plain": [
       "<BarContainer object of 5 artists>"
      ]
     },
     "execution_count": 36,
     "metadata": {},
     "output_type": "execute_result"
    },
    {
     "data": {
      "image/png": "[encoded data removed]",
      "text/plain": [
       "<Figure size 432x288 with 1 Axes>"
      ]
     },
     "metadata": {},
     "output_type": "display_data"
    }
   ],
   "source": [
    "datafile=open('base_data.csv')\n",
    "data=csv.reader(datafile)\n",
    "data=list(data)\n",
    "countries=[]\n",
    "cases=[]\n",
    "i=2\n",
    "while(i<7):\n",
    "    country=data[i][1]\n",
    "    countries.append(country)\n",
    "    case_count=data[i][2]\n",
    "    case_count=case_count.replace(',','')\n",
    "    case_count=int(case_count)\n",
    "    cases.append(case_count)\n",
    "    i=i+1\n",
    "cases.sort()\n",
    "countries.reverse()\n",
    "plt.style.use('fivethirtyeight')\n",
    "plt.tight_layout()\n",
    "plt.bar(countries,cases)"
   ]
  }
 ],
 "metadata": {
  "kernelspec": {
   "display_name": "Python 3",
   "language": "python",
   "name": "python3"
  },
  "language_info": {
   "codemirror_mode": {
    "name": "ipython",
    "version": 3
   },
   "file_extension": ".py",
   "mimetype": "text/x-python",
   "name": "python",
   "nbconvert_exporter": "python",
   "pygments_lexer": "ipython3",
   "version": "3.7.6"
  }
 },
 "nbformat": 4,
 "nbformat_minor": 2
}
